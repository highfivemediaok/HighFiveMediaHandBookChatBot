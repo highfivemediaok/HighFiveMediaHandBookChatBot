{
 "cells": [
  {
   "cell_type": "code",
   "execution_count": 2,
   "metadata": {},
   "outputs": [
    {
     "name": "stderr",
     "output_type": "stream",
     "text": [
      "c:\\GITHUB REPO SENDER\\HighFiveMediaHandBookChatBot\\HFMCHAT\\Lib\\site-packages\\pinecone\\data\\index.py:1: TqdmWarning: IProgress not found. Please update jupyter and ipywidgets. See https://ipywidgets.readthedocs.io/en/stable/user_install.html\n",
      "  from tqdm.autonotebook import tqdm\n"
     ]
    }
   ],
   "source": [
    "#Import Lib\n",
    "\n",
    "import openai\n",
    "import langchain\n",
    "import pinecone\n",
    "from langchain.document_loaders import PyPDFDirectoryLoader\n",
    "from langchain.text_splitter import RecursiveCharacterTextSplitter\n",
    "from langchain.embeddings.openai import OpenAIEmbeddings\n",
    "#creating a store \n",
    "from langchain.vectorstores import Pinecone\n",
    "from langchain.llms import OpenAI"
   ]
  },
  {
   "cell_type": "code",
   "execution_count": 9,
   "metadata": {},
   "outputs": [
    {
     "data": {
      "text/plain": [
       "True"
      ]
     },
     "execution_count": 9,
     "metadata": {},
     "output_type": "execute_result"
    }
   ],
   "source": [
    "# Load all envorinment varaibles \n",
    "from dotenv import load_dotenv\n",
    "load_dotenv()"
   ]
  },
  {
   "cell_type": "code",
   "execution_count": 4,
   "metadata": {},
   "outputs": [],
   "source": [
    "import os"
   ]
  },
  {
   "cell_type": "code",
   "execution_count": 10,
   "metadata": {},
   "outputs": [],
   "source": [
    "os.environ['OPENAI_API_KEY'] = os.getenv('OPEN_AI_KEY')"
   ]
  },
  {
   "cell_type": "code",
   "execution_count": 5,
   "metadata": {},
   "outputs": [],
   "source": [
    "#read pdf document\n",
    "\n",
    "def read_doc(directory):\n",
    "    file_loader = PyPDFDirectoryLoader(directory)\n",
    "    documents = file_loader.load()\n",
    "    return documents"
   ]
  },
  {
   "cell_type": "code",
   "execution_count": 18,
   "metadata": {},
   "outputs": [
    {
     "name": "stderr",
     "output_type": "stream",
     "text": [
      "<>:34: SyntaxWarning: invalid escape sequence '\\G'\n",
      "<>:34: SyntaxWarning: invalid escape sequence '\\G'\n",
      "C:\\Users\\FelipeCastillo\\AppData\\Local\\Temp\\ipykernel_27528\\3590015111.py:34: SyntaxWarning: invalid escape sequence '\\G'\n",
      "  pdf_directory = \"C:\\GITHUB REPO SENDER\\HighFiveMediaHandBookChatBot\\TrainningDocuments\"\n",
      "Ignoring wrong pointing object 6 0 (offset 0)\n",
      "Ignoring wrong pointing object 9 0 (offset 0)\n",
      "Ignoring wrong pointing object 11 0 (offset 0)\n",
      "Ignoring wrong pointing object 13 0 (offset 0)\n",
      "Ignoring wrong pointing object 15 0 (offset 0)\n",
      "Ignoring wrong pointing object 17 0 (offset 0)\n",
      "Ignoring wrong pointing object 19 0 (offset 0)\n",
      "Ignoring wrong pointing object 21 0 (offset 0)\n",
      "Ignoring wrong pointing object 36 0 (offset 0)\n",
      "Ignoring wrong pointing object 41 0 (offset 0)\n",
      "Ignoring wrong pointing object 43 0 (offset 0)\n",
      "Ignoring wrong pointing object 6 0 (offset 0)\n",
      "Ignoring wrong pointing object 9 0 (offset 0)\n",
      "Ignoring wrong pointing object 11 0 (offset 0)\n",
      "Ignoring wrong pointing object 13 0 (offset 0)\n",
      "Ignoring wrong pointing object 15 0 (offset 0)\n",
      "Ignoring wrong pointing object 17 0 (offset 0)\n",
      "Ignoring wrong pointing object 19 0 (offset 0)\n",
      "Ignoring wrong pointing object 21 0 (offset 0)\n",
      "Ignoring wrong pointing object 23 0 (offset 0)\n",
      "Ignoring wrong pointing object 8 0 (offset 0)\n",
      "Ignoring wrong pointing object 10 0 (offset 0)\n",
      "Ignoring wrong pointing object 12 0 (offset 0)\n",
      "Ignoring wrong pointing object 14 0 (offset 0)\n",
      "Ignoring wrong pointing object 16 0 (offset 0)\n",
      "Ignoring wrong pointing object 18 0 (offset 0)\n",
      "Ignoring wrong pointing object 20 0 (offset 0)\n",
      "Ignoring wrong pointing object 41 0 (offset 0)\n",
      "Ignoring wrong pointing object 43 0 (offset 0)\n"
     ]
    },
    {
     "name": "stdout",
     "output_type": "stream",
     "text": [
      "Indexed document: Benefits Package - Leave Policies \n",
      "Indexed document: Benefits Package - Leave Policies \n",
      "Indexed document: Benefits Package - Leave Policies \n",
      "Indexed document: Benefits Package - Leave Policies \n",
      "Indexed document: Employee Work Schedule\n",
      "Indexed document: Medical Insurance Recap 2024\n",
      "Indexed document: Medical Insurance Recap 2024\n",
      "Indexed document: Medical Insurance Recap 2024\n",
      "Indexed document: Newport Quick Start Guide\n",
      "Indexed document: Newport Quick Start Guide\n",
      "Indexed document: Newport Quick Start Guide\n",
      "Indexed document: Newport Quick Start Guide\n",
      "All documents have been indexed.\n"
     ]
    }
   ],
   "source": [
    "import os\n",
    "from langchain.document_loaders import PyPDFDirectoryLoader\n",
    "from langchain.vectorstores import Pinecone as PineconeVectorStore\n",
    "from pinecone import Pinecone, ServerlessSpec, PodSpec\n",
    "from langchain.schema import Document\n",
    "from langchain_openai import OpenAIEmbeddings\n",
    "from langchain.text_splitter import RecursiveCharacterTextSplitter\n",
    "\n",
    "def read_doc(directory):\n",
    "    file_loader = PyPDFDirectoryLoader(directory)\n",
    "    documents = file_loader.load()\n",
    "    return documents\n",
    "\n",
    "def chunks_data(doc, chunk_size=800, chunk_overlap=50):\n",
    "    text_splitter = RecursiveCharacterTextSplitter(chunk_size=chunk_size, chunk_overlap=chunk_overlap)\n",
    "    chunks = text_splitter.split_documents([doc])\n",
    "    return chunks\n",
    "\n",
    "# Configuration for Pinecone\n",
    "use_serverless = True\n",
    "\n",
    "if use_serverless:\n",
    "    spec = ServerlessSpec(cloud='aws', region='us-east-1')\n",
    "else:\n",
    "    spec = PodSpec()\n",
    "\n",
    "index_name = \"highfiveonboarding\"\n",
    "dimension = 1536  # Set the dimension for the embeddings\n",
    "\n",
    "# Initialize OpenAI Embeddings\n",
    "embeddings = OpenAIEmbeddings()\n",
    "\n",
    "# Directory containing the PDF documents\n",
    "pdf_directory = \"C:\\GITHUB REPO SENDER\\HighFiveMediaHandBookChatBot\\TrainningDocuments\"\n",
    "\n",
    "# Read all PDF documents in the directory\n",
    "documents = read_doc(pdf_directory)\n",
    "\n",
    "# Iterate over each document\n",
    "for doc in documents:\n",
    "    # Extract the file name (without extension) to use as the namespace\n",
    "    namespace_docs = os.path.splitext(os.path.basename(doc.metadata[\"source\"]))[0]\n",
    "\n",
    "    # Split the document content into chunks\n",
    "    chunks_docs = chunks_data(doc)\n",
    "\n",
    "    # Convert chunks to Document format\n",
    "    docs_docs = [Document(page_content=chunk.page_content) for chunk in chunks_docs]\n",
    "\n",
    "    # Index document chunks into Pinecone\n",
    "    vector_store_docs = PineconeVectorStore.from_documents(\n",
    "        documents=docs_docs, embedding=embeddings, index_name=index_name, namespace=namespace_docs\n",
    "    )\n",
    "\n",
    "    print(f\"Indexed document: {namespace_docs}\")\n",
    "\n",
    "print(\"All documents have been indexed.\")\n"
   ]
  }
 ],
 "metadata": {
  "kernelspec": {
   "display_name": "Python 3",
   "language": "python",
   "name": "python3"
  },
  "language_info": {
   "codemirror_mode": {
    "name": "ipython",
    "version": 3
   },
   "file_extension": ".py",
   "mimetype": "text/x-python",
   "name": "python",
   "nbconvert_exporter": "python",
   "pygments_lexer": "ipython3",
   "version": "3.12.3"
  }
 },
 "nbformat": 4,
 "nbformat_minor": 2
}
